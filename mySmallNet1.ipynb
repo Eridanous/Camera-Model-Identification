{
  "cells": [
    {
      "metadata": {
        "_uuid": "8f2839f25d086af736a60e9eeb907d3b93b6e0e5",
        "_cell_guid": "b1076dfc-b9ad-4769-8c92-a6c4dae69d19",
        "trusted": true
      },
      "cell_type": "code",
      "source": "# This Python 3 environment comes with many helpful analytics libraries installed\n# It is defined by the kaggle/python docker image: https://github.com/kaggle/docker-python\n# For example, here's several helpful packages to load in \n\nimport numpy as np # linear algebra\nimport pandas as pd # data processing, CSV file I/O (e.g. pd.read_csv)\n\n# Input data files are available in the \"../input/\" directory.\n# For example, running this (by clicking run or pressing Shift+Enter) will list the files in the input directory\n\nimport glob\nfrom tqdm import tqdm_notebook\nimport matplotlib.pyplot as plt\nimport tensorflow as tf\nimport keras\nimport time\nimport cv2\nfrom sklearn.model_selection import train_test_split\nimport gc\nfrom keras.models import Sequential\nfrom keras.layers import Conv2D, MaxPooling2D, Dense, Flatten, Activation,Dropout,BatchNormalization\nfrom keras.layers.merge import Concatenate\nfrom keras.models import Model\nfrom keras.optimizers import Adam\nfrom keras.preprocessing.image import ImageDataGenerator\n\nimport os\nprint(os.listdir(\"../input\"))\n\n# Any results you write to the current directory are saved as output.",
      "execution_count": 37,
      "outputs": [
        {
          "output_type": "stream",
          "text": "['train', 'test', 'sample_submission.csv']\n",
          "name": "stdout"
        }
      ]
    },
    {
      "metadata": {
        "trusted": true,
        "_uuid": "0266afb2d5d0c48a9399c4e78944120c3dc87522"
      },
      "cell_type": "code",
      "source": "data = '../input/'\ntrain_files = sorted(glob.glob(data + 'train/*/*'))\n# test_path = sorted(glob.glob(data + 'test/*'))\n\nlabels = ['HTC-1-M7', 'iPhone-4s', 'iPhone-6', 'LG-Nexus-5x', 'Motorola-Droid-Maxx', \n         'Motorola-Nexus-6', 'Motorola-X', 'Samsung-Galaxy-Note3', 'Samsung-Galaxy-S4',\n         'Sony-NEX-7'] \nAll_labels = [labels.index(file.split('/')[-2]) for file in train_files] # TO BE CHANGED!!!!!!!\n\nx_train_files, x_test_files, y_train_files, y_test_files = train_test_split(train_files,All_labels,test_size = 0.05, shuffle = True,random_state = 42)\n\n# y_train = keras.utils.to_categorical(y_train_files, len(labels)) # one hot vector\ny_test = keras.utils.to_categorical(y_test_files, len(labels)) # one hot vector",
      "execution_count": 46,
      "outputs": []
    },
    {
      "metadata": {
        "trusted": true,
        "_uuid": "d0e9f51667d2506f682ef4b096702075b070fbe2"
      },
      "cell_type": "code",
      "source": "# y_train_files\nlen(y_train_files)",
      "execution_count": 39,
      "outputs": [
        {
          "output_type": "execute_result",
          "execution_count": 39,
          "data": {
            "text/plain": "137"
          },
          "metadata": {}
        }
      ]
    },
    {
      "metadata": {
        "trusted": true,
        "_uuid": "1abd73babae5d3cfef95f55c1fc31cf1e7ef6fd3"
      },
      "cell_type": "code",
      "source": "crdim = 256\n\nkernel_filter = 1/12. * np.array([\\\n            [-1,  2,  -2,  2, -1],  \\\n            [ 2, -6,   8, -6,  2],  \\\n            [-2,  8, -12,  8, -2],  \\\n            [ 2, -6,   8, -6,  2],  \\\n            [-1,  2,  -2,  2, -1]])\n\n\n\n\n\n\ntrain_imgs = []\ncount_file = -1\ny_augm = [] # augmented labels\nfor file in tqdm_notebook(x_train_files):\n    img = cv2.imread(file)\n    x,y = img.shape[:2]\n\n    count_file += 1 # number of img out of 2750 (or len of train set)\n    img_label = y_train_files[count_file]    \n    \n\n    x,y = img.shape[:2]\n\n    xpos = []\n    xpos.append([0,crdim])\n    xpos.append([x//2-crdim//2,x//2+crdim//2])\n#     xpos.append([x-crdim,x])\n\n    ypos = []\n    ypos.append([0,crdim])\n    ypos.append([y//2-crdim//2,y//2+crdim//2])\n#     ypos.append([y-crdim,y])\n\n    cr_imgs = []\n    for i in xpos:\n        for j in ypos:\n            crimg = img[i[0]:i[1], j[0]:j[1],:]\n            crimg = cv2.filter2D(crimg.astype(np.float32),-1,kernel_filter)\n            train_imgs.append(crimg)\n            \n    for t in range(len(xpos)*len(ypos)): # total crops\n        y_augm.append(y_train_files[count_file]) # augment labels\n\n            \n    del file,img,crimg\n    gc.collect()\n\ntrain_imgs = np.array(train_imgs)",
      "execution_count": 40,
      "outputs": [
        {
          "output_type": "display_data",
          "data": {
            "text/plain": "HBox(children=(IntProgress(value=0, max=137), HTML(value='')))",
            "application/vnd.jupyter.widget-view+json": {
              "version_major": 2,
              "version_minor": 0,
              "model_id": "765f46fdc4ae421ea65b18356944deeb"
            }
          },
          "metadata": {}
        },
        {
          "output_type": "stream",
          "text": "\n",
          "name": "stdout"
        }
      ]
    },
    {
      "metadata": {
        "trusted": true,
        "_uuid": "3aefc386f6158e08019862d22a5e8c139d3ee1b5"
      },
      "cell_type": "code",
      "source": "",
      "execution_count": null,
      "outputs": []
    },
    {
      "metadata": {
        "trusted": true,
        "_uuid": "893b58070303715844bdb2c137768f1574aff07a"
      },
      "cell_type": "code",
      "source": "y_train = keras.utils.to_categorical(y_augm, len(labels)) # one hot vector",
      "execution_count": 41,
      "outputs": []
    },
    {
      "metadata": {
        "_cell_guid": "79c7e3d0-c299-4dcb-8224-4455121ee9b0",
        "_uuid": "d629ff2d2480ee46fbb7e2d37f6b5fab8052498a",
        "trusted": true
      },
      "cell_type": "code",
      "source": "datagen = ImageDataGenerator(horizontal_flip=True, vertical_flip = True)\n\ndatagen.fit(train_imgs)",
      "execution_count": 43,
      "outputs": []
    },
    {
      "metadata": {
        "trusted": true,
        "_uuid": "9f334cac5244bb3605729d56a767592aacbbd0e0"
      },
      "cell_type": "code",
      "source": "model=Sequential()\nmodel.add(Conv2D(64, kernel_size=(3, 3),strides=(2, 2), input_shape=(256, 256, 3)))\nmodel.add(BatchNormalization())\nmodel.add(Activation('relu'))\n\nmodel.add(Conv2D(64, kernel_size=(3, 3),strides=(2, 2) ))\nmodel.add(BatchNormalization())\nmodel.add(Activation('relu'))\n\nmodel.add(Conv2D(32, kernel_size=(3, 3)))\nmodel.add(BatchNormalization())\nmodel.add(Activation('relu'))\n\nmodel.add(MaxPooling2D(pool_size=(3, 3), strides=(2, 2)))\n\nmodel.add(Flatten())\nmodel.add(Dense(256))\nmodel.add(Activation('relu'))\nmodel.add(Dropout(0.25))\n\nmodel.add(Dense(4096))\nmodel.add(Activation('relu'))\nmodel.add(Dropout(0.25))\n\nmodel.add(Dense(10))\nmodel.add(Activation('softmax'))\n\nopt = keras.optimizers.rmsprop(lr=0.0001, decay=1e-6)\n\nmodel.compile(loss='categorical_crossentropy',\n              optimizer=opt,\n              metrics=['accuracy'])\nmodel.summary()",
      "execution_count": 44,
      "outputs": [
        {
          "output_type": "stream",
          "text": "_________________________________________________________________\nLayer (type)                 Output Shape              Param #   \n=================================================================\nconv2d_4 (Conv2D)            (None, 127, 127, 64)      1792      \n_________________________________________________________________\nbatch_normalization_4 (Batch (None, 127, 127, 64)      256       \n_________________________________________________________________\nactivation_7 (Activation)    (None, 127, 127, 64)      0         \n_________________________________________________________________\nconv2d_5 (Conv2D)            (None, 63, 63, 64)        36928     \n_________________________________________________________________\nbatch_normalization_5 (Batch (None, 63, 63, 64)        256       \n_________________________________________________________________\nactivation_8 (Activation)    (None, 63, 63, 64)        0         \n_________________________________________________________________\nconv2d_6 (Conv2D)            (None, 61, 61, 32)        18464     \n_________________________________________________________________\nbatch_normalization_6 (Batch (None, 61, 61, 32)        128       \n_________________________________________________________________\nactivation_9 (Activation)    (None, 61, 61, 32)        0         \n_________________________________________________________________\nmax_pooling2d_2 (MaxPooling2 (None, 30, 30, 32)        0         \n_________________________________________________________________\nflatten_2 (Flatten)          (None, 28800)             0         \n_________________________________________________________________\ndense_4 (Dense)              (None, 256)               7373056   \n_________________________________________________________________\nactivation_10 (Activation)   (None, 256)               0         \n_________________________________________________________________\ndropout_3 (Dropout)          (None, 256)               0         \n_________________________________________________________________\ndense_5 (Dense)              (None, 4096)              1052672   \n_________________________________________________________________\nactivation_11 (Activation)   (None, 4096)              0         \n_________________________________________________________________\ndropout_4 (Dropout)          (None, 4096)              0         \n_________________________________________________________________\ndense_6 (Dense)              (None, 10)                40970     \n_________________________________________________________________\nactivation_12 (Activation)   (None, 10)                0         \n=================================================================\nTotal params: 8,524,522\nTrainable params: 8,524,202\nNon-trainable params: 320\n_________________________________________________________________\n",
          "name": "stdout"
        }
      ]
    },
    {
      "metadata": {
        "trusted": true,
        "_uuid": "6bca9c8b21c49e5fb2d7266cca8c899a3bccb55f",
        "scrolled": true
      },
      "cell_type": "code",
      "source": "model.fit_generator(datagen.flow(train_imgs, y_train, batch_size=32),steps_per_epoch= None, epochs=100) ",
      "execution_count": 45,
      "outputs": [
        {
          "output_type": "stream",
          "text": "Epoch 1/100\n18/18 [==============================] - 6s 333ms/step - loss: 3.5223 - acc: 0.1236\nEpoch 2/100\n18/18 [==============================] - 2s 101ms/step - loss: 2.2740 - acc: 0.1926\nEpoch 3/100\n18/18 [==============================] - 2s 100ms/step - loss: 2.2620 - acc: 0.1480\nEpoch 4/100\n18/18 [==============================] - 2s 102ms/step - loss: 2.2346 - acc: 0.1839\nEpoch 5/100\n18/18 [==============================] - 2s 100ms/step - loss: 2.1664 - acc: 0.1682\nEpoch 6/100\n18/18 [==============================] - 2s 100ms/step - loss: 2.1864 - acc: 0.1891\nEpoch 7/100\n18/18 [==============================] - 2s 101ms/step - loss: 2.1952 - acc: 0.2152\nEpoch 8/100\n18/18 [==============================] - 2s 101ms/step - loss: 2.1256 - acc: 0.2065\nEpoch 9/100\n18/18 [==============================] - 2s 101ms/step - loss: 2.1969 - acc: 0.2141\nEpoch 10/100\n18/18 [==============================] - 2s 101ms/step - loss: 2.1478 - acc: 0.2019\nEpoch 11/100\n18/18 [==============================] - 2s 101ms/step - loss: 2.1050 - acc: 0.2124\nEpoch 12/100\n18/18 [==============================] - 2s 101ms/step - loss: 2.0826 - acc: 0.2263\nEpoch 13/100\n18/18 [==============================] - 2s 101ms/step - loss: 2.0686 - acc: 0.2691\nEpoch 14/100\n18/18 [==============================] - 2s 103ms/step - loss: 1.9987 - acc: 0.2782\nEpoch 15/100\n18/18 [==============================] - 2s 99ms/step - loss: 1.9883 - acc: 0.2691\nEpoch 16/100\n18/18 [==============================] - 2s 101ms/step - loss: 1.9249 - acc: 0.2981\nEpoch 17/100\n18/18 [==============================] - 2s 102ms/step - loss: 1.9665 - acc: 0.2761\nEpoch 18/100\n18/18 [==============================] - 2s 101ms/step - loss: 1.8398 - acc: 0.3259\nEpoch 19/100\n18/18 [==============================] - 2s 101ms/step - loss: 1.8167 - acc: 0.3127\nEpoch 20/100\n18/18 [==============================] - 2s 102ms/step - loss: 1.7652 - acc: 0.3792\nEpoch 21/100\n18/18 [==============================] - 2s 102ms/step - loss: 1.7582 - acc: 0.3423\nEpoch 22/100\n18/18 [==============================] - 2s 101ms/step - loss: 1.7799 - acc: 0.3603\nEpoch 23/100\n18/18 [==============================] - 2s 103ms/step - loss: 1.7406 - acc: 0.3882\nEpoch 24/100\n18/18 [==============================] - 2s 101ms/step - loss: 1.6777 - acc: 0.3753\nEpoch 25/100\n18/18 [==============================] - 2s 102ms/step - loss: 1.6669 - acc: 0.3969\nEpoch 26/100\n18/18 [==============================] - 2s 103ms/step - loss: 1.6307 - acc: 0.3886\nEpoch 27/100\n18/18 [==============================] - 2s 101ms/step - loss: 1.7423 - acc: 0.4067\nEpoch 28/100\n18/18 [==============================] - 2s 102ms/step - loss: 1.5785 - acc: 0.3917\nEpoch 29/100\n18/18 [==============================] - 2s 101ms/step - loss: 1.6948 - acc: 0.4213\nEpoch 30/100\n18/18 [==============================] - 2s 101ms/step - loss: 1.5613 - acc: 0.4443\nEpoch 31/100\n18/18 [==============================] - 2s 100ms/step - loss: 1.5659 - acc: 0.4143\nEpoch 32/100\n18/18 [==============================] - 2s 102ms/step - loss: 1.5662 - acc: 0.4345\nEpoch 33/100\n18/18 [==============================] - 2s 101ms/step - loss: 1.4773 - acc: 0.4798\nEpoch 34/100\n18/18 [==============================] - 2s 102ms/step - loss: 1.4303 - acc: 0.4756\nEpoch 35/100\n18/18 [==============================] - 2s 101ms/step - loss: 1.6201 - acc: 0.4369\nEpoch 36/100\n18/18 [==============================] - 2s 103ms/step - loss: 1.4837 - acc: 0.4892\nEpoch 37/100\n18/18 [==============================] - 2s 101ms/step - loss: 1.3542 - acc: 0.4993\nEpoch 38/100\n18/18 [==============================] - 2s 102ms/step - loss: 1.4348 - acc: 0.4780\nEpoch 39/100\n18/18 [==============================] - 2s 100ms/step - loss: 1.4299 - acc: 0.5017\nEpoch 40/100\n18/18 [==============================] - 2s 102ms/step - loss: 1.4174 - acc: 0.4965\nEpoch 41/100\n18/18 [==============================] - 2s 107ms/step - loss: 1.4068 - acc: 0.4617\nEpoch 42/100\n18/18 [==============================] - 2s 101ms/step - loss: 1.3156 - acc: 0.5376\nEpoch 43/100\n18/18 [==============================] - 2s 101ms/step - loss: 1.4172 - acc: 0.4989\nEpoch 44/100\n18/18 [==============================] - 2s 100ms/step - loss: 1.3360 - acc: 0.5052\nEpoch 45/100\n18/18 [==============================] - 2s 100ms/step - loss: 1.3214 - acc: 0.5341\nEpoch 46/100\n18/18 [==============================] - 2s 101ms/step - loss: 1.3512 - acc: 0.5226\nEpoch 47/100\n18/18 [==============================] - 2s 101ms/step - loss: 1.2042 - acc: 0.5568\nEpoch 48/100\n18/18 [==============================] - 2s 102ms/step - loss: 1.3154 - acc: 0.5129\nEpoch 49/100\n18/18 [==============================] - 2s 102ms/step - loss: 1.2869 - acc: 0.5487\nEpoch 50/100\n18/18 [==============================] - 2s 101ms/step - loss: 1.1887 - acc: 0.5616\nEpoch 51/100\n18/18 [==============================] - 2s 102ms/step - loss: 1.2437 - acc: 0.5487\nEpoch 52/100\n18/18 [==============================] - 2s 101ms/step - loss: 1.2039 - acc: 0.5927\nEpoch 53/100\n18/18 [==============================] - 2s 102ms/step - loss: 1.1996 - acc: 0.5759\nEpoch 54/100\n18/18 [==============================] - 2s 102ms/step - loss: 1.2568 - acc: 0.5605\nEpoch 55/100\n18/18 [==============================] - 2s 101ms/step - loss: 1.2091 - acc: 0.5661\nEpoch 56/100\n18/18 [==============================] - 2s 102ms/step - loss: 1.2352 - acc: 0.5633\nEpoch 57/100\n18/18 [==============================] - 2s 101ms/step - loss: 1.2570 - acc: 0.5414\nEpoch 58/100\n18/18 [==============================] - 2s 102ms/step - loss: 1.2220 - acc: 0.5912\nEpoch 59/100\n18/18 [==============================] - 2s 101ms/step - loss: 1.2159 - acc: 0.5703\nEpoch 60/100\n18/18 [==============================] - 2s 101ms/step - loss: 1.1304 - acc: 0.5738\nEpoch 61/100\n18/18 [==============================] - 2s 102ms/step - loss: 1.0382 - acc: 0.6330\nEpoch 62/100\n18/18 [==============================] - 2s 105ms/step - loss: 1.1077 - acc: 0.6020\nEpoch 63/100\n18/18 [==============================] - 2s 100ms/step - loss: 1.2302 - acc: 0.5727\nEpoch 64/100\n18/18 [==============================] - 2s 103ms/step - loss: 1.0635 - acc: 0.5927\nEpoch 65/100\n18/18 [==============================] - 2s 102ms/step - loss: 1.0241 - acc: 0.6449\nEpoch 66/100\n18/18 [==============================] - 2s 101ms/step - loss: 1.0020 - acc: 0.6543\nEpoch 67/100\n18/18 [==============================] - 2s 101ms/step - loss: 1.0640 - acc: 0.6393\nEpoch 68/100\n18/18 [==============================] - 2s 103ms/step - loss: 1.0663 - acc: 0.5905\nEpoch 69/100\n18/18 [==============================] - 2s 102ms/step - loss: 1.0001 - acc: 0.6682\nEpoch 70/100\n18/18 [==============================] - 2s 100ms/step - loss: 0.9179 - acc: 0.6675\nEpoch 71/100\n18/18 [==============================] - 2s 102ms/step - loss: 1.1327 - acc: 0.6281\nEpoch 72/100\n18/18 [==============================] - 2s 103ms/step - loss: 0.8862 - acc: 0.6536\nEpoch 73/100\n18/18 [==============================] - 2s 101ms/step - loss: 0.8890 - acc: 0.6782\nEpoch 74/100\n18/18 [==============================] - 2s 101ms/step - loss: 0.9753 - acc: 0.6434\nEpoch 75/100\n18/18 [==============================] - 2s 102ms/step - loss: 0.9706 - acc: 0.6776\nEpoch 76/100\n18/18 [==============================] - 2s 103ms/step - loss: 0.9886 - acc: 0.6643\nEpoch 77/100\n18/18 [==============================] - 2s 102ms/step - loss: 0.9084 - acc: 0.6971\nEpoch 78/100\n18/18 [==============================] - 2s 103ms/step - loss: 0.8924 - acc: 0.6950\nEpoch 79/100\n18/18 [==============================] - 2s 102ms/step - loss: 0.8368 - acc: 0.7100\nEpoch 80/100\n18/18 [==============================] - 2s 101ms/step - loss: 0.9918 - acc: 0.6730\nEpoch 81/100\n18/18 [==============================] - 2s 101ms/step - loss: 1.1132 - acc: 0.6650\nEpoch 82/100\n18/18 [==============================] - 2s 102ms/step - loss: 1.0573 - acc: 0.6650\nEpoch 83/100\n18/18 [==============================] - 2s 102ms/step - loss: 0.7938 - acc: 0.7361\nEpoch 84/100\n18/18 [==============================] - 2s 101ms/step - loss: 0.8341 - acc: 0.7026\nEpoch 85/100\n",
          "name": "stdout"
        },
        {
          "output_type": "stream",
          "text": "18/18 [==============================] - 2s 101ms/step - loss: 0.9430 - acc: 0.6835\nEpoch 86/100\n18/18 [==============================] - 2s 101ms/step - loss: 0.8203 - acc: 0.7176\nEpoch 87/100\n18/18 [==============================] - 2s 101ms/step - loss: 0.8307 - acc: 0.6887\nEpoch 88/100\n18/18 [==============================] - 2s 102ms/step - loss: 0.7752 - acc: 0.7354\nEpoch 89/100\n18/18 [==============================] - 2s 101ms/step - loss: 0.7116 - acc: 0.7528\nEpoch 90/100\n18/18 [==============================] - 2s 103ms/step - loss: 0.8654 - acc: 0.7252\nEpoch 91/100\n18/18 [==============================] - 2s 101ms/step - loss: 0.7734 - acc: 0.7246\nEpoch 92/100\n18/18 [==============================] - 2s 101ms/step - loss: 0.8736 - acc: 0.7263\nEpoch 93/100\n18/18 [==============================] - 2s 102ms/step - loss: 0.7743 - acc: 0.7413\nEpoch 94/100\n18/18 [==============================] - 2s 102ms/step - loss: 0.6736 - acc: 0.7779\nEpoch 95/100\n18/18 [==============================] - 2s 102ms/step - loss: 0.8762 - acc: 0.7218\nEpoch 96/100\n18/18 [==============================] - 2s 101ms/step - loss: 0.6668 - acc: 0.7622\nEpoch 97/100\n18/18 [==============================] - 2s 102ms/step - loss: 0.7144 - acc: 0.7639\nEpoch 98/100\n18/18 [==============================] - 2s 102ms/step - loss: 0.7859 - acc: 0.7468\nEpoch 99/100\n18/18 [==============================] - 2s 102ms/step - loss: 0.6913 - acc: 0.7528\nEpoch 100/100\n18/18 [==============================] - 2s 100ms/step - loss: 0.6463 - acc: 0.7757\n",
          "name": "stdout"
        },
        {
          "output_type": "execute_result",
          "execution_count": 45,
          "data": {
            "text/plain": "<keras.callbacks.History at 0x7fe8e2526ac8>"
          },
          "metadata": {}
        }
      ]
    },
    {
      "metadata": {
        "trusted": true,
        "_uuid": "fce899af7951121558580c9f9b246cf283daa1ac"
      },
      "cell_type": "code",
      "source": "dim = 256\n\nkernel_filter = 1/12. * np.array([\\\n            [-1,  2,  -2,  2, -1],  \\\n            [ 2, -6,   8, -6,  2],  \\\n            [-2,  8, -12,  8, -2],  \\\n            [ 2, -6,   8, -6,  2],  \\\n            [-1,  2,  -2,  2, -1]])\n\n\ntest_imgs = []\nfor file in tqdm_notebook(x_test_files):\n    img = cv2.imread(file)\n    center_x = img.shape[0]//2\n    center_y = img.shape[1]//2 \n    cropped_img = img[center_x-dim//2:center_x+dim//2, center_y-dim//2:center_y+dim//2, : ]\n    \n    cropped_img = cv2.filter2D(cropped_img.astype(np.float32),-1,kernel_filter)    \n    test_imgs.append(cropped_img)\n    del file,img,center_x,center_y,cropped_img\n    gc.collect()\n\ntest_imgs = np.array(test_imgs)",
      "execution_count": 47,
      "outputs": [
        {
          "output_type": "display_data",
          "data": {
            "text/plain": "HBox(children=(IntProgress(value=0, max=138), HTML(value='')))",
            "application/vnd.jupyter.widget-view+json": {
              "version_major": 2,
              "version_minor": 0,
              "model_id": "5efcac2c51644a5ca255024a702dd9d1"
            }
          },
          "metadata": {}
        },
        {
          "output_type": "stream",
          "text": "\n",
          "name": "stdout"
        }
      ]
    },
    {
      "metadata": {
        "trusted": true,
        "_uuid": "328f6aba290b6dba713c8116fa60145093d1f352"
      },
      "cell_type": "code",
      "source": "scores = model.evaluate(test_imgs,y_test, verbose=1)\nprint('Test loss:', scores[0])\nprint('Test accuracy:', scores[1])",
      "execution_count": null,
      "outputs": [
        {
          "output_type": "stream",
          "text": "128/138 [==========================>...] - ETA: 0s",
          "name": "stdout"
        }
      ]
    },
    {
      "metadata": {
        "trusted": true,
        "_uuid": "0a182870a196faeed9fb1515f59b94f20321c1a9"
      },
      "cell_type": "code",
      "source": "",
      "execution_count": null,
      "outputs": []
    },
    {
      "metadata": {
        "trusted": true,
        "_uuid": "2c1b29e192f989885be01a07fa4daff434858949"
      },
      "cell_type": "code",
      "source": "",
      "execution_count": null,
      "outputs": []
    },
    {
      "metadata": {
        "trusted": true,
        "_uuid": "a91f664fe16f0aa4a9c55d79d7c01c3661531da2"
      },
      "cell_type": "code",
      "source": "",
      "execution_count": null,
      "outputs": []
    },
    {
      "metadata": {
        "trusted": true,
        "_uuid": "2610c501314e8331f150cb01e44b0b53baee35bb"
      },
      "cell_type": "code",
      "source": "",
      "execution_count": null,
      "outputs": []
    },
    {
      "metadata": {
        "trusted": true,
        "_uuid": "17b55c90a04fdb711a255a89726c149df04c758b"
      },
      "cell_type": "code",
      "source": "",
      "execution_count": null,
      "outputs": []
    },
    {
      "metadata": {
        "trusted": true,
        "_uuid": "3b510fbf3a38fc388decb1eed8b841c6a865670e"
      },
      "cell_type": "code",
      "source": "",
      "execution_count": null,
      "outputs": []
    },
    {
      "metadata": {
        "trusted": true,
        "_uuid": "67009753d5ec774db60d56633a7a507f79a6fd4f"
      },
      "cell_type": "code",
      "source": "",
      "execution_count": null,
      "outputs": []
    },
    {
      "metadata": {
        "trusted": true,
        "_uuid": "0b8428f5e4d4bbcfc3f2f8a4c3ed70f37dc42455"
      },
      "cell_type": "code",
      "source": "",
      "execution_count": null,
      "outputs": []
    },
    {
      "metadata": {
        "trusted": true,
        "_uuid": "4b371af1b1df316f9cb93e2691ff75e01a536e3e"
      },
      "cell_type": "code",
      "source": "",
      "execution_count": null,
      "outputs": []
    }
  ],
  "metadata": {
    "kernelspec": {
      "display_name": "Python 3",
      "language": "python",
      "name": "python3"
    },
    "language_info": {
      "name": "python",
      "version": "3.6.6",
      "mimetype": "text/x-python",
      "codemirror_mode": {
        "name": "ipython",
        "version": 3
      },
      "pygments_lexer": "ipython3",
      "nbconvert_exporter": "python",
      "file_extension": ".py"
    }
  },
  "nbformat": 4,
  "nbformat_minor": 1
}