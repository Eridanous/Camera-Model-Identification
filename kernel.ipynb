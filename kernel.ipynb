{
 "cells": [
  {
   "cell_type": "code",
   "execution_count": 11,
   "metadata": {
    "_cell_guid": "b1076dfc-b9ad-4769-8c92-a6c4dae69d19",
    "_uuid": "8f2839f25d086af736a60e9eeb907d3b93b6e0e5"
   },
   "outputs": [
    {
     "name": "stdout",
     "output_type": "stream",
     "text": [
      "['.ipynb_checkpoints', 'cifar-no-augment.h5', '__notebook_source__.ipynb']\n"
     ]
    }
   ],
   "source": [
    "# This Python 3 environment comes with many helpful analytics libraries installed\n",
    "# It is defined by the kaggle/python docker image: https://github.com/kaggle/docker-python\n",
    "# For example, here's several helpful packages to load in \n",
    "\n",
    "import numpy as np # linear algebra\n",
    "import pandas as pd # data processing, CSV file I/O (e.g. pd.read_csv)\n",
    "\n",
    "# Input data files are available in the \"../input/\" directory.\n",
    "# For example, running this (by clicking run or pressing Shift+Enter) will list the files in the input directory\n",
    "\n",
    "import os\n",
    "print(os.listdir(\"../working\"))\n",
    "\n",
    "# Any results you write to the current directory are saved as output."
   ]
  },
  {
   "cell_type": "code",
   "execution_count": 2,
   "metadata": {
    "_cell_guid": "79c7e3d0-c299-4dcb-8224-4455121ee9b0",
    "_uuid": "d629ff2d2480ee46fbb7e2d37f6b5fab8052498a"
   },
   "outputs": [
    {
     "name": "stderr",
     "output_type": "stream",
     "text": [
      "Using TensorFlow backend.\n"
     ]
    }
   ],
   "source": [
    "import keras\n",
    "from keras.models import Sequential\n",
    "from keras.layers import Dense, Dropout, Activation, Flatten\n",
    "from keras.layers import Conv2D, Lambda, MaxPooling2D\n",
    "from keras.initializers import TruncatedNormal\n",
    "from keras.preprocessing.image import ImageDataGenerator"
   ]
  },
  {
   "cell_type": "code",
   "execution_count": 3,
   "metadata": {
    "_uuid": "172ff1b9d5170680f12c9219fd7001a33d9a9236"
   },
   "outputs": [
    {
     "name": "stdout",
     "output_type": "stream",
     "text": [
      "_________________________________________________________________\n",
      "Layer (type)                 Output Shape              Param #   \n",
      "=================================================================\n",
      "conv2d_1 (Conv2D)            (None, 256, 256, 32)      896       \n",
      "_________________________________________________________________\n",
      "activation_1 (Activation)    (None, 256, 256, 32)      0         \n",
      "_________________________________________________________________\n",
      "conv2d_2 (Conv2D)            (None, 254, 254, 32)      9248      \n",
      "_________________________________________________________________\n",
      "activation_2 (Activation)    (None, 254, 254, 32)      0         \n",
      "_________________________________________________________________\n",
      "max_pooling2d_1 (MaxPooling2 (None, 127, 127, 32)      0         \n",
      "_________________________________________________________________\n",
      "dropout_1 (Dropout)          (None, 127, 127, 32)      0         \n",
      "_________________________________________________________________\n",
      "conv2d_3 (Conv2D)            (None, 127, 127, 64)      18496     \n",
      "_________________________________________________________________\n",
      "activation_3 (Activation)    (None, 127, 127, 64)      0         \n",
      "_________________________________________________________________\n",
      "conv2d_4 (Conv2D)            (None, 125, 125, 64)      36928     \n",
      "_________________________________________________________________\n",
      "activation_4 (Activation)    (None, 125, 125, 64)      0         \n",
      "_________________________________________________________________\n",
      "max_pooling2d_2 (MaxPooling2 (None, 62, 62, 64)        0         \n",
      "_________________________________________________________________\n",
      "dropout_2 (Dropout)          (None, 62, 62, 64)        0         \n",
      "_________________________________________________________________\n",
      "flatten_1 (Flatten)          (None, 246016)            0         \n",
      "_________________________________________________________________\n",
      "dense_1 (Dense)              (None, 512)               125960704 \n",
      "_________________________________________________________________\n",
      "activation_5 (Activation)    (None, 512)               0         \n",
      "_________________________________________________________________\n",
      "dropout_3 (Dropout)          (None, 512)               0         \n",
      "_________________________________________________________________\n",
      "dense_2 (Dense)              (None, 10)                5130      \n",
      "_________________________________________________________________\n",
      "activation_6 (Activation)    (None, 10)                0         \n",
      "=================================================================\n",
      "Total params: 126,031,402\n",
      "Trainable params: 126,031,402\n",
      "Non-trainable params: 0\n",
      "_________________________________________________________________\n"
     ]
    }
   ],
   "source": [
    "num_classes = 10\n",
    "\n",
    "model = Sequential()\n",
    "# model.add(Lambda(augment_2d,\n",
    "#                  input_shape=x_train.shape[1:],\n",
    "#                  arguments={'rotation': 8.0, 'horizontal_flip': True}))\n",
    "\n",
    "model.add(Conv2D(32, (3, 3), padding='same',input_shape=(256, 256, 3)))\n",
    "model.add(Activation('relu'))\n",
    "model.add(Conv2D(32, (3, 3)))\n",
    "model.add(Activation('relu'))\n",
    "model.add(MaxPooling2D(pool_size=(2, 2)))\n",
    "model.add(Dropout(0.25))\n",
    "\n",
    "model.add(Conv2D(64, (3, 3), padding='same'))\n",
    "model.add(Activation('relu'))\n",
    "model.add(Conv2D(64, (3, 3)))\n",
    "model.add(Activation('relu'))\n",
    "model.add(MaxPooling2D(pool_size=(2, 2)))\n",
    "model.add(Dropout(0.25))\n",
    "\n",
    "model.add(Flatten())\n",
    "model.add(Dense(512))\n",
    "model.add(Activation('relu'))\n",
    "model.add(Dropout(0.5))\n",
    "model.add(Dense(num_classes))\n",
    "model.add(Activation('softmax'))\n",
    "\n",
    "opt = keras.optimizers.rmsprop(lr=0.0001, decay=1e-6)\n",
    "model.compile(loss='categorical_crossentropy',\n",
    "              optimizer=opt,\n",
    "              metrics=['accuracy'])\n",
    "model.summary()"
   ]
  },
  {
   "cell_type": "code",
   "execution_count": 4,
   "metadata": {
    "_uuid": "3e0ed3145a58aeae9855afdd609faedbfed4cc89",
    "scrolled": false
   },
   "outputs": [
    {
     "name": "stdout",
     "output_type": "stream",
     "text": [
      "Found 2200 images belonging to 10 classes.\n",
      "Found 550 images belonging to 10 classes.\n",
      "Epoch 1/20\n",
      "69/69 [==============================] - 606s 9s/step - loss: 2.3474 - acc: 0.1733 - val_loss: 2.1047 - val_acc: 0.2236\n",
      "Epoch 2/20\n",
      "69/69 [==============================] - 544s 8s/step - loss: 1.9066 - acc: 0.3000 - val_loss: 1.9517 - val_acc: 0.3091\n",
      "Epoch 3/20\n",
      "69/69 [==============================] - 543s 8s/step - loss: 1.7499 - acc: 0.3755 - val_loss: 1.8992 - val_acc: 0.3091\n",
      "Epoch 4/20\n",
      "69/69 [==============================] - 555s 8s/step - loss: 1.5966 - acc: 0.4389 - val_loss: 1.7227 - val_acc: 0.4273\n",
      "Epoch 5/20\n",
      "69/69 [==============================] - 550s 8s/step - loss: 1.4508 - acc: 0.5039 - val_loss: 1.7437 - val_acc: 0.4055\n",
      "Epoch 6/20\n",
      "69/69 [==============================] - 547s 8s/step - loss: 1.3038 - acc: 0.5592 - val_loss: 1.6500 - val_acc: 0.4473\n",
      "Epoch 7/20\n",
      "69/69 [==============================] - 544s 8s/step - loss: 1.1704 - acc: 0.6046 - val_loss: 1.5522 - val_acc: 0.4691\n",
      "Epoch 8/20\n",
      "69/69 [==============================] - 550s 8s/step - loss: 1.0050 - acc: 0.6600 - val_loss: 1.5956 - val_acc: 0.4764\n",
      "Epoch 9/20\n",
      "69/69 [==============================] - 550s 8s/step - loss: 0.8864 - acc: 0.7126 - val_loss: 1.5439 - val_acc: 0.4891\n",
      "Epoch 10/20\n",
      "69/69 [==============================] - 543s 8s/step - loss: 0.7292 - acc: 0.7683 - val_loss: 1.6091 - val_acc: 0.4509\n",
      "Epoch 11/20\n",
      "69/69 [==============================] - 537s 8s/step - loss: 0.6137 - acc: 0.8078 - val_loss: 1.5817 - val_acc: 0.4636\n",
      "Epoch 12/20\n",
      "69/69 [==============================] - 528s 8s/step - loss: 0.5059 - acc: 0.8435 - val_loss: 1.9193 - val_acc: 0.4600\n",
      "Epoch 13/20\n",
      "69/69 [==============================] - 531s 8s/step - loss: 0.3921 - acc: 0.8829 - val_loss: 1.7644 - val_acc: 0.4400\n",
      "Epoch 14/20\n",
      "69/69 [==============================] - 531s 8s/step - loss: 0.2993 - acc: 0.9117 - val_loss: 1.6697 - val_acc: 0.4618\n",
      "Epoch 15/20\n",
      "69/69 [==============================] - 525s 8s/step - loss: 0.2329 - acc: 0.9319 - val_loss: 1.9048 - val_acc: 0.4709\n",
      "Epoch 16/20\n",
      "69/69 [==============================] - 512s 7s/step - loss: 0.1837 - acc: 0.9505 - val_loss: 1.9874 - val_acc: 0.4691\n",
      "Epoch 17/20\n",
      "69/69 [==============================] - 511s 7s/step - loss: 0.1576 - acc: 0.9591 - val_loss: 2.3652 - val_acc: 0.4436\n",
      "Epoch 18/20\n",
      "69/69 [==============================] - 509s 7s/step - loss: 0.1215 - acc: 0.9678 - val_loss: 2.1591 - val_acc: 0.4582\n",
      "Epoch 19/20\n",
      "69/69 [==============================] - 519s 8s/step - loss: 0.1102 - acc: 0.9710 - val_loss: 2.1583 - val_acc: 0.4709\n",
      "Epoch 20/20\n",
      "69/69 [==============================] - 515s 7s/step - loss: 0.0827 - acc: 0.9764 - val_loss: 2.2550 - val_acc: 0.4655\n"
     ]
    }
   ],
   "source": [
    "train_datagen = ImageDataGenerator(\n",
    "        rescale = 1./255,\n",
    "        #shear_range=0.2,\n",
    "        #zoom_range=0.2,\n",
    "        #horizontal_flip=True\n",
    "        validation_split = 0.2\n",
    "        )\n",
    "\n",
    "#test_datagen = ImageDataGenerator(rescale=1./255)\n",
    "\n",
    "train_generator = train_datagen.flow_from_directory(\n",
    "        '../input/train',\n",
    "        target_size=(256, 256),\n",
    "        batch_size=32,\n",
    "        subset = 'training'\n",
    "        #class_mode='binary'\n",
    "        )\n",
    "\n",
    "validation_generator = train_datagen.flow_from_directory(\n",
    "        '../input/train',\n",
    "        target_size=(256, 256),\n",
    "        batch_size=32,\n",
    "        subset = 'validation'\n",
    "        #class_mode='binary'\n",
    "        )\n",
    "\n",
    "\n",
    "mlp_hist = model.fit_generator(\n",
    "        train_generator,\n",
    "        #steps_per_epoch=2000, uses len(generator)\n",
    "        epochs=20,\n",
    "        validation_data=validation_generator,\n",
    "        #validation_steps=800 uses len(generator)\n",
    "        )\n",
    "\n",
    "#model.save(\"mlp-128-64b.h5\")\n",
    "#mlp.load_weights(\"../input/simple-neural-network/mlp-768-192.h5\")\n",
    "#accuracy = mlp.evaluate_generator(validation_generator)\n",
    "\n",
    "#print(\"Accuracy: \",accuracy)\n",
    "#output.show()"
   ]
  },
  {
   "cell_type": "code",
   "execution_count": 8,
   "metadata": {
    "_uuid": "892cbed2bc907a137ef2e3aee30a08d45e98b8e0"
   },
   "outputs": [],
   "source": [
    "model.save(\"cifar-no-augment.h5\")"
   ]
  },
  {
   "cell_type": "code",
   "execution_count": 7,
   "metadata": {
    "_uuid": "bce341fd58864cc8c7c4cdead5cbb9b5186bbac4"
   },
   "outputs": [
    {
     "name": "stderr",
     "output_type": "stream",
     "text": [
      "No handles with labels found to put in legend.\n",
      "No handles with labels found to put in legend.\n"
     ]
    },
    {
     "data": {
      "text/plain": [
       "Text(0,0.5,'Accuracy')"
      ]
     },
     "execution_count": 7,
     "metadata": {},
     "output_type": "execute_result"
    },
    {
     "data": {
      "image/png": "[encoded data removed]",
      "text/plain": [
       "<Figure size 1440x432 with 2 Axes>"
      ]
     },
     "metadata": {},
     "output_type": "display_data"
    }
   ],
   "source": [
    "# mlp_loss, mlp_acc = mlp.evaluate(x_test, y_test)\n",
    "# print('\\nΣυνάρτηση κόστους: \\t{:.2f}\\nΑκρίβεια:\\t\\t{:.2f}%'.format(mlp_loss, 100*mlp_acc))\n",
    "import matplotlib.pyplot as plt\n",
    "epochs = 20\n",
    "# # epochs=30\n",
    "# # mlp.compile(optimizer='sgd', loss='categorical_crossentropy', metrics=['accuracy'])\n",
    "# # mlp_hist = mlp.fit(x_train, y_train, epochs=epochs, batch_size=32)\n",
    "\n",
    "\n",
    "plt.rcParams[\"figure.figsize\"] = (20,6)\n",
    "plt.subplot(1, 2, 1)\n",
    "plt.plot(range(1,epochs+1), mlp_hist.history['loss'], c='deepskyblue')\n",
    "plt.legend()\n",
    "plt.title('Cross-entropy loss on the training set')\n",
    "plt.xlabel('Epoch')\n",
    "plt.ylabel('Cross-entropy loss')\n",
    "plt.subplot(1, 2, 2)\n",
    "plt.plot(range(1,epochs+1), mlp_hist.history['acc'], c='deepskyblue')\n",
    "plt.legend(loc='lower right')\n",
    "plt.title('Accuracy on the training set')\n",
    "plt.xlabel('Epoch')\n",
    "plt.ylabel('Accuracy')"
   ]
  },
  {
   "cell_type": "code",
   "execution_count": null,
   "metadata": {
    "_uuid": "f5fc5590a3c77dc2ef1c54a802cf945fca77b53f"
   },
   "outputs": [],
   "source": []
  }
 ],
 "metadata": {
  "kernelspec": {
   "display_name": "Python 3",
   "language": "python",
   "name": "python3"
  },
  "language_info": {
   "codemirror_mode": {
    "name": "ipython",
    "version": 3
   },
   "file_extension": ".py",
   "mimetype": "text/x-python",
   "name": "python",
   "nbconvert_exporter": "python",
   "pygments_lexer": "ipython3",
   "version": "3.7.0"
  }
 },
 "nbformat": 4,
 "nbformat_minor": 1
}
