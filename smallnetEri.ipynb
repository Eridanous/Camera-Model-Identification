{
 "cells": [
  {
   "cell_type": "code",
   "execution_count": 1,
   "metadata": {
    "_cell_guid": "b1076dfc-b9ad-4769-8c92-a6c4dae69d19",
    "_uuid": "8f2839f25d086af736a60e9eeb907d3b93b6e0e5"
   },
   "outputs": [
    {
     "name": "stderr",
     "output_type": "stream",
     "text": [
      "Using TensorFlow backend.\n"
     ]
    },
    {
     "name": "stdout",
     "output_type": "stream",
     "text": [
      "['train', 'test', 'sample_submission.csv']\n"
     ]
    }
   ],
   "source": [
    "# This Python 3 environment comes with many helpful analytics libraries installed\n",
    "# It is defined by the kaggle/python docker image: https://github.com/kaggle/docker-python\n",
    "# For example, here's several helpful packages to load in \n",
    "\n",
    "import numpy as np # linear algebra\n",
    "import pandas as pd # data processing, CSV file I/O (e.g. pd.read_csv)\n",
    "\n",
    "# Input data files are available in the \"../input/\" directory.\n",
    "# For example, running this (by clicking run or pressing Shift+Enter) will list the files in the input directory\n",
    "\n",
    "import glob\n",
    "from tqdm import tqdm_notebook\n",
    "import matplotlib.pyplot as plt\n",
    "import tensorflow as tf\n",
    "import keras\n",
    "import time\n",
    "import cv2\n",
    "from sklearn.model_selection import train_test_split\n",
    "import gc\n",
    "from keras.models import Sequential\n",
    "from keras.layers import Conv2D, MaxPooling2D, Dense, Flatten, Activation,Dropout,BatchNormalization\n",
    "from keras.layers.merge import Concatenate\n",
    "from keras.models import Model\n",
    "from keras.optimizers import Adam\n",
    "from keras.preprocessing.image import ImageDataGenerator\n",
    "\n",
    "import os\n",
    "print(os.listdir(\"../input\"))\n",
    "\n",
    "# Any results you write to the current directory are saved as output."
   ]
  },
  {
   "cell_type": "code",
   "execution_count": 2,
   "metadata": {
    "_uuid": "0266afb2d5d0c48a9399c4e78944120c3dc87522"
   },
   "outputs": [],
   "source": [
    "data = '../input/'\n",
    "train_files = sorted(glob.glob(data + 'train/*/*'))\n",
    "# test_path = sorted(glob.glob(data + 'test/*'))\n",
    "\n",
    "labels = ['HTC-1-M7', 'iPhone-4s', 'iPhone-6', 'LG-Nexus-5x', 'Motorola-Droid-Maxx', \n",
    "         'Motorola-Nexus-6', 'Motorola-X', 'Samsung-Galaxy-Note3', 'Samsung-Galaxy-S4',\n",
    "         'Sony-NEX-7'] \n",
    "All_labels = [labels.index(file.split('/')[-2]) for file in train_files] # TO BE CHANGED!!!!!!!\n",
    "\n",
    "x_train_files, x_test_files, y_train_files, y_test_files = train_test_split(train_files,All_labels,test_size = 0.2, shuffle = True,random_state = 42)\n",
    "\n",
    "# y_train = keras.utils.to_categorical(y_train_files, len(labels)) # one hot vector\n",
    "y_test = keras.utils.to_categorical(y_test_files, len(labels)) # one hot vector"
   ]
  },
  {
   "cell_type": "code",
   "execution_count": 3,
   "metadata": {
    "_uuid": "d0e9f51667d2506f682ef4b096702075b070fbe2"
   },
   "outputs": [
    {
     "data": {
      "text/plain": [
       "2200"
      ]
     },
     "execution_count": 3,
     "metadata": {},
     "output_type": "execute_result"
    }
   ],
   "source": [
    "# y_train_files\n",
    "len(y_train_files)"
   ]
  },
  {
   "cell_type": "code",
   "execution_count": 4,
   "metadata": {
    "_uuid": "1abd73babae5d3cfef95f55c1fc31cf1e7ef6fd3"
   },
   "outputs": [
    {
     "data": {
      "application/vnd.jupyter.widget-view+json": {
       "model_id": "d50b317a2038442589765b08551bd78f",
       "version_major": 2,
       "version_minor": 0
      },
      "text/plain": [
       "HBox(children=(IntProgress(value=0, max=2200), HTML(value='')))"
      ]
     },
     "metadata": {},
     "output_type": "display_data"
    },
    {
     "name": "stdout",
     "output_type": "stream",
     "text": [
      "\n"
     ]
    }
   ],
   "source": [
    "crdim = 256\n",
    "\n",
    "kernel_filter = 1/12. * np.array([\\\n",
    "            [-1,  2,  -2,  2, -1],  \\\n",
    "            [ 2, -6,   8, -6,  2],  \\\n",
    "            [-2,  8, -12,  8, -2],  \\\n",
    "            [ 2, -6,   8, -6,  2],  \\\n",
    "            [-1,  2,  -2,  2, -1]])\n",
    "\n",
    "\n",
    "\n",
    "\n",
    "\n",
    "\n",
    "train_imgs = []\n",
    "count_file = -1\n",
    "y_augm = [] # augmented labels\n",
    "for file in tqdm_notebook(x_train_files):\n",
    "    img = cv2.imread(file)\n",
    "    x,y = img.shape[:2]\n",
    "\n",
    "    count_file += 1 # number of img out of 2750 (or len of train set)\n",
    "    img_label = y_train_files[count_file]    \n",
    "    \n",
    "\n",
    "    x,y = img.shape[:2]\n",
    "\n",
    "    xpos = []\n",
    "#     xpos.append([0,crdim])\n",
    "    xpos.append([x//2-crdim//2,x//2+crdim//2])\n",
    "#     xpos.append([x-crdim,x])\n",
    "\n",
    "    ypos = []\n",
    "#     ypos.append([0,crdim])\n",
    "    ypos.append([y//2-crdim//2,y//2+crdim//2])\n",
    "    ypos.append([y//2,y//2+crdim])\n",
    "#     ypos.append([y-crdim,y])\n",
    "\n",
    "    cr_imgs = []\n",
    "    for i in xpos:\n",
    "        for j in ypos:\n",
    "            crimg = img[i[0]:i[1], j[0]:j[1],:]\n",
    "#             crimg = cv2.filter2D(crimg.astype(np.float32),-1,kernel_filter)\n",
    "            crimg = crimg.astype(np.float32)\n",
    "            train_imgs.append(crimg)\n",
    "            \n",
    "    for t in range(len(xpos)*len(ypos)): # total crops\n",
    "        y_augm.append(y_train_files[count_file]) # augment labels\n",
    "\n",
    "            \n",
    "    del file,img,crimg\n",
    "    gc.collect()\n",
    "\n",
    "train_imgs = np.array(train_imgs)"
   ]
  },
  {
   "cell_type": "code",
   "execution_count": 5,
   "metadata": {
    "_uuid": "7fff41645a1ddb48ee82b9904d63437d13b4fc25"
   },
   "outputs": [
    {
     "data": {
      "application/vnd.jupyter.widget-view+json": {
       "model_id": "89f820dd549a4791ae5e920167a7ee21",
       "version_major": 2,
       "version_minor": 0
      },
      "text/plain": [
       "HBox(children=(IntProgress(value=0, max=550), HTML(value='')))"
      ]
     },
     "metadata": {},
     "output_type": "display_data"
    },
    {
     "name": "stdout",
     "output_type": "stream",
     "text": [
      "\n"
     ]
    }
   ],
   "source": [
    "dim = 256\n",
    "\n",
    "kernel_filter = 1/12. * np.array([\\\n",
    "            [-1,  2,  -2,  2, -1],  \\\n",
    "            [ 2, -6,   8, -6,  2],  \\\n",
    "            [-2,  8, -12,  8, -2],  \\\n",
    "            [ 2, -6,   8, -6,  2],  \\\n",
    "            [-1,  2,  -2,  2, -1]])\n",
    "\n",
    "\n",
    "test_imgs = []\n",
    "for file in tqdm_notebook(x_test_files):\n",
    "    img = cv2.imread(file)\n",
    "    center_x = img.shape[0]//2\n",
    "    center_y = img.shape[1]//2 \n",
    "    cropped_img = img[center_x-dim//2:center_x+dim//2, center_y-dim//2:center_y+dim//2, : ]\n",
    "    \n",
    "    cropped_img = cv2.filter2D(cropped_img.astype(np.float32),-1,kernel_filter)    \n",
    "    test_imgs.append(cropped_img)\n",
    "    del file,img,center_x,center_y,cropped_img\n",
    "    gc.collect()\n",
    "\n",
    "test_imgs = np.array(test_imgs)"
   ]
  },
  {
   "cell_type": "code",
   "execution_count": 6,
   "metadata": {
    "_uuid": "893b58070303715844bdb2c137768f1574aff07a"
   },
   "outputs": [],
   "source": [
    "y_train = keras.utils.to_categorical(y_augm, len(labels)) # one hot vector"
   ]
  },
  {
   "cell_type": "code",
   "execution_count": 7,
   "metadata": {
    "_uuid": "6ee8c500d6fb13cdf6684bb22a8e1c0ed922d836"
   },
   "outputs": [],
   "source": [
    "def myFunc(img):\n",
    "    kernel_filter = 1/12. * np.array([\\\n",
    "            [-1,  2,  -2,  2, -1],  \\\n",
    "            [ 2, -6,   8, -6,  2],  \\\n",
    "            [-2,  8, -12,  8, -2],  \\\n",
    "            [ 2, -6,   8, -6,  2],  \\\n",
    "            [-1,  2,  -2,  2, -1]])\n",
    "\n",
    "    pro_img = cv2.filter2D(img,-1,kernel_filter)\n",
    "    return pro_img"
   ]
  },
  {
   "cell_type": "code",
   "execution_count": 8,
   "metadata": {
    "_cell_guid": "79c7e3d0-c299-4dcb-8224-4455121ee9b0",
    "_uuid": "d629ff2d2480ee46fbb7e2d37f6b5fab8052498a"
   },
   "outputs": [],
   "source": [
    "datagen = ImageDataGenerator(horizontal_flip=True, vertical_flip = True,preprocessing_function = myFunc)\n",
    "# datagen = ImageDataGenerator(horizontal_flip=True, vertical_flip = True)\n",
    "datagen.fit(train_imgs)"
   ]
  },
  {
   "cell_type": "code",
   "execution_count": 9,
   "metadata": {
    "_uuid": "82e7b7b2e1404a30ee071b5cdceb7ed84459e13e"
   },
   "outputs": [],
   "source": [
    "from keras.callbacks import ModelCheckpoint, LearningRateScheduler\n",
    "from keras.callbacks import ReduceLROnPlateau\n",
    "\n",
    "def lr_schedule(epoch):\n",
    "    \"\"\"Learning Rate Schedule\n",
    "\n",
    "    Learning rate is scheduled to be reduced after 80, 120, 160, 180 epochs.\n",
    "    Called automatically every epoch as part of callbacks during training.\n",
    "\n",
    "    # Arguments\n",
    "        epoch (int): The number of epochs\n",
    "\n",
    "    # Returns\n",
    "        lr (float32): learning rate\n",
    "    \"\"\"\n",
    "#     lr = 0.0001\n",
    "#     if epoch > 180:\n",
    "#         lr *= 0.5e-3\n",
    "#     elif epoch > 160:\n",
    "#         lr *= 1e-3\n",
    "#     elif epoch > 120:\n",
    "#         lr *= 1e-2\n",
    "#     elif epoch > 80:\n",
    "#         lr *= 1e-1\n",
    "#     print('Learning rate: ', lr)\n",
    "#     return lr\n",
    "\n",
    "    lr = 0.0001\n",
    "    if epoch > 100:\n",
    "        lr *= 1e-3\n",
    "    elif epoch > 80:\n",
    "        lr = lr/100\n",
    "    elif epoch > 40:\n",
    "        lr = lr/10\n",
    "    elif epoch > 5:\n",
    "        lr = lr\n",
    "    elif epoch > -1:\n",
    "        lr = lr*2\n",
    "    print('Learning rate: ', lr)\n",
    "    return lr\n",
    "\n",
    "lr_scheduler = LearningRateScheduler(lr_schedule)\n",
    "\n",
    "lr_reducer = ReduceLROnPlateau(factor=np.sqrt(0.1),\n",
    "                               cooldown=0,\n",
    "                               patience=5,\n",
    "                               min_lr=0.5e-6)\n",
    "\n",
    "callbacks = [lr_reducer, lr_scheduler]"
   ]
  },
  {
   "cell_type": "code",
   "execution_count": 10,
   "metadata": {
    "_uuid": "9f334cac5244bb3605729d56a767592aacbbd0e0",
    "scrolled": true
   },
   "outputs": [
    {
     "name": "stdout",
     "output_type": "stream",
     "text": [
      "Learning rate:  0.0002\n",
      "_________________________________________________________________\n",
      "Layer (type)                 Output Shape              Param #   \n",
      "=================================================================\n",
      "conv2d_1 (Conv2D)            (None, 127, 127, 64)      1792      \n",
      "_________________________________________________________________\n",
      "batch_normalization_1 (Batch (None, 127, 127, 64)      256       \n",
      "_________________________________________________________________\n",
      "activation_1 (Activation)    (None, 127, 127, 64)      0         \n",
      "_________________________________________________________________\n",
      "conv2d_2 (Conv2D)            (None, 63, 63, 64)        36928     \n",
      "_________________________________________________________________\n",
      "batch_normalization_2 (Batch (None, 63, 63, 64)        256       \n",
      "_________________________________________________________________\n",
      "activation_2 (Activation)    (None, 63, 63, 64)        0         \n",
      "_________________________________________________________________\n",
      "conv2d_3 (Conv2D)            (None, 61, 61, 32)        18464     \n",
      "_________________________________________________________________\n",
      "batch_normalization_3 (Batch (None, 61, 61, 32)        128       \n",
      "_________________________________________________________________\n",
      "activation_3 (Activation)    (None, 61, 61, 32)        0         \n",
      "_________________________________________________________________\n",
      "max_pooling2d_1 (MaxPooling2 (None, 30, 30, 32)        0         \n",
      "_________________________________________________________________\n",
      "flatten_1 (Flatten)          (None, 28800)             0         \n",
      "_________________________________________________________________\n",
      "dense_1 (Dense)              (None, 256)               7373056   \n",
      "_________________________________________________________________\n",
      "activation_4 (Activation)    (None, 256)               0         \n",
      "_________________________________________________________________\n",
      "dropout_1 (Dropout)          (None, 256)               0         \n",
      "_________________________________________________________________\n",
      "dense_2 (Dense)              (None, 4096)              1052672   \n",
      "_________________________________________________________________\n",
      "activation_5 (Activation)    (None, 4096)              0         \n",
      "_________________________________________________________________\n",
      "dropout_2 (Dropout)          (None, 4096)              0         \n",
      "_________________________________________________________________\n",
      "dense_3 (Dense)              (None, 10)                40970     \n",
      "_________________________________________________________________\n",
      "activation_6 (Activation)    (None, 10)                0         \n",
      "=================================================================\n",
      "Total params: 8,524,522\n",
      "Trainable params: 8,524,202\n",
      "Non-trainable params: 320\n",
      "_________________________________________________________________\n"
     ]
    }
   ],
   "source": [
    "model=Sequential()\n",
    "model.add(Conv2D(64, kernel_size=(3, 3),strides=(2, 2), input_shape=(256, 256, 3)))\n",
    "model.add(BatchNormalization())\n",
    "model.add(Activation('relu'))\n",
    "\n",
    "model.add(Conv2D(64, kernel_size=(3, 3),strides=(2, 2) ))\n",
    "model.add(BatchNormalization())\n",
    "model.add(Activation('relu'))\n",
    "\n",
    "model.add(Conv2D(32, kernel_size=(3, 3)))\n",
    "model.add(BatchNormalization())\n",
    "model.add(Activation('relu'))\n",
    "\n",
    "model.add(MaxPooling2D(pool_size=(3, 3), strides=(2, 2)))\n",
    "\n",
    "model.add(Flatten())\n",
    "model.add(Dense(256))\n",
    "model.add(Activation('relu'))\n",
    "model.add(Dropout(0.25))\n",
    "\n",
    "model.add(Dense(4096))\n",
    "model.add(Activation('relu'))\n",
    "model.add(Dropout(0.25))\n",
    "\n",
    "model.add(Dense(10))\n",
    "model.add(Activation('softmax'))\n",
    "\n",
    "# opt = keras.optimizers.rmsprop(lr=0.0001, decay=1e-6)\n",
    "opt = keras.optimizers.rmsprop(lr=lr_schedule(0), decay=1e-6)\n",
    "\n",
    "model.compile(loss='categorical_crossentropy',\n",
    "              optimizer=opt,\n",
    "              metrics=['accuracy'])\n",
    "model.summary()"
   ]
  },
  {
   "cell_type": "code",
   "execution_count": 11,
   "metadata": {
    "_uuid": "6bca9c8b21c49e5fb2d7266cca8c899a3bccb55f",
    "scrolled": false
   },
   "outputs": [
    {
     "name": "stdout",
     "output_type": "stream",
     "text": [
      "Epoch 1/80\n",
      "Learning rate:  0.0002\n",
      "138/138 [==============================] - 19s 135ms/step - loss: 2.5066 - acc: 0.1721 - val_loss: 1.9790 - val_acc: 0.2618\n",
      "Epoch 2/80\n",
      "Learning rate:  0.0002\n",
      "138/138 [==============================] - 16s 114ms/step - loss: 1.9761 - acc: 0.2516 - val_loss: 1.6960 - val_acc: 0.3727\n",
      "Epoch 3/80\n",
      "Learning rate:  0.0002\n",
      "138/138 [==============================] - 16s 115ms/step - loss: 1.7914 - acc: 0.3204 - val_loss: 1.7128 - val_acc: 0.3655\n",
      "Epoch 4/80\n",
      "Learning rate:  0.0002\n",
      "138/138 [==============================] - 16s 114ms/step - loss: 1.6876 - acc: 0.3689 - val_loss: 1.4783 - val_acc: 0.4255\n",
      "Epoch 5/80\n",
      "Learning rate:  0.0002\n",
      "138/138 [==============================] - 16s 115ms/step - loss: 1.6036 - acc: 0.3940 - val_loss: 1.6048 - val_acc: 0.3727\n",
      "Epoch 6/80\n",
      "Learning rate:  0.0002\n",
      "138/138 [==============================] - 16s 114ms/step - loss: 1.5421 - acc: 0.4346 - val_loss: 1.4086 - val_acc: 0.4345\n",
      "Epoch 7/80\n",
      "Learning rate:  0.0001\n",
      "138/138 [==============================] - 16s 115ms/step - loss: 1.3395 - acc: 0.4848 - val_loss: 1.2892 - val_acc: 0.5091\n",
      "Epoch 8/80\n",
      "Learning rate:  0.0001\n",
      "138/138 [==============================] - 16s 115ms/step - loss: 1.2813 - acc: 0.5165 - val_loss: 1.4374 - val_acc: 0.5018\n",
      "Epoch 9/80\n",
      "Learning rate:  0.0001\n",
      "138/138 [==============================] - 16s 115ms/step - loss: 1.2032 - acc: 0.5464 - val_loss: 1.0840 - val_acc: 0.5982\n",
      "Epoch 10/80\n",
      "Learning rate:  0.0001\n",
      "138/138 [==============================] - 16s 115ms/step - loss: 1.1639 - acc: 0.5519 - val_loss: 1.0228 - val_acc: 0.6291\n",
      "Epoch 11/80\n",
      "Learning rate:  0.0001\n",
      "138/138 [==============================] - 16s 115ms/step - loss: 1.1410 - acc: 0.5781 - val_loss: 1.0524 - val_acc: 0.6236\n",
      "Epoch 12/80\n",
      "Learning rate:  0.0001\n",
      "138/138 [==============================] - 16s 115ms/step - loss: 1.0939 - acc: 0.5926 - val_loss: 0.9918 - val_acc: 0.6309\n",
      "Epoch 13/80\n",
      "Learning rate:  0.0001\n",
      "138/138 [==============================] - 16s 115ms/step - loss: 1.0275 - acc: 0.6178 - val_loss: 0.9667 - val_acc: 0.6382\n",
      "Epoch 14/80\n",
      "Learning rate:  0.0001\n",
      "138/138 [==============================] - 16s 115ms/step - loss: 1.0412 - acc: 0.6101 - val_loss: 1.4881 - val_acc: 0.5818\n",
      "Epoch 15/80\n",
      "Learning rate:  0.0001\n",
      "138/138 [==============================] - 16s 116ms/step - loss: 1.0002 - acc: 0.6286 - val_loss: 0.9139 - val_acc: 0.6418\n",
      "Epoch 16/80\n",
      "Learning rate:  0.0001\n",
      "138/138 [==============================] - 16s 115ms/step - loss: 0.9516 - acc: 0.6497 - val_loss: 0.9079 - val_acc: 0.6473\n",
      "Epoch 17/80\n",
      "Learning rate:  0.0001\n",
      "138/138 [==============================] - 16s 115ms/step - loss: 0.9325 - acc: 0.6535 - val_loss: 0.9797 - val_acc: 0.6545\n",
      "Epoch 18/80\n",
      "Learning rate:  0.0001\n",
      "138/138 [==============================] - 16s 116ms/step - loss: 0.9077 - acc: 0.6635 - val_loss: 0.8271 - val_acc: 0.6964\n",
      "Epoch 19/80\n",
      "Learning rate:  0.0001\n",
      "138/138 [==============================] - 16s 115ms/step - loss: 0.8786 - acc: 0.6687 - val_loss: 0.8854 - val_acc: 0.6782\n",
      "Epoch 20/80\n",
      "Learning rate:  0.0001\n",
      "138/138 [==============================] - 16s 115ms/step - loss: 0.8498 - acc: 0.6866 - val_loss: 0.7879 - val_acc: 0.7018\n",
      "Epoch 21/80\n",
      "Learning rate:  0.0001\n",
      "138/138 [==============================] - 16s 115ms/step - loss: 0.8332 - acc: 0.6929 - val_loss: 1.2203 - val_acc: 0.6218\n",
      "Epoch 22/80\n",
      "Learning rate:  0.0001\n",
      "138/138 [==============================] - 16s 115ms/step - loss: 0.8196 - acc: 0.6954 - val_loss: 0.8795 - val_acc: 0.6964\n",
      "Epoch 23/80\n",
      "Learning rate:  0.0001\n",
      "138/138 [==============================] - 16s 114ms/step - loss: 0.8007 - acc: 0.6979 - val_loss: 0.7685 - val_acc: 0.7309\n",
      "Epoch 24/80\n",
      "Learning rate:  0.0001\n",
      "138/138 [==============================] - 16s 114ms/step - loss: 0.8006 - acc: 0.7160 - val_loss: 0.8368 - val_acc: 0.7018\n",
      "Epoch 25/80\n",
      "Learning rate:  0.0001\n",
      "138/138 [==============================] - 16s 115ms/step - loss: 0.7749 - acc: 0.7231 - val_loss: 0.7987 - val_acc: 0.7109\n",
      "Epoch 26/80\n",
      "Learning rate:  0.0001\n",
      "138/138 [==============================] - 16s 114ms/step - loss: 0.7433 - acc: 0.7217 - val_loss: 0.7677 - val_acc: 0.7436\n",
      "Epoch 27/80\n",
      "Learning rate:  0.0001\n",
      "138/138 [==============================] - 16s 114ms/step - loss: 0.7579 - acc: 0.7310 - val_loss: 0.7394 - val_acc: 0.7455\n",
      "Epoch 28/80\n",
      "Learning rate:  0.0001\n",
      "138/138 [==============================] - 16s 115ms/step - loss: 0.7198 - acc: 0.7486 - val_loss: 0.6826 - val_acc: 0.7600\n",
      "Epoch 29/80\n",
      "Learning rate:  0.0001\n",
      "138/138 [==============================] - 16s 116ms/step - loss: 0.7095 - acc: 0.7443 - val_loss: 1.6206 - val_acc: 0.6436\n",
      "Epoch 30/80\n",
      "Learning rate:  0.0001\n",
      "138/138 [==============================] - 16s 114ms/step - loss: 0.7060 - acc: 0.7486 - val_loss: 0.6905 - val_acc: 0.7527\n",
      "Epoch 31/80\n",
      "Learning rate:  0.0001\n",
      "138/138 [==============================] - 16s 116ms/step - loss: 0.7060 - acc: 0.7557 - val_loss: 0.7909 - val_acc: 0.7436\n",
      "Epoch 32/80\n",
      "Learning rate:  0.0001\n",
      "138/138 [==============================] - 16s 116ms/step - loss: 0.6783 - acc: 0.7606 - val_loss: 0.7667 - val_acc: 0.7382\n",
      "Epoch 33/80\n",
      "Learning rate:  0.0001\n",
      "138/138 [==============================] - 16s 117ms/step - loss: 0.6711 - acc: 0.7579 - val_loss: 0.7227 - val_acc: 0.7764\n",
      "Epoch 34/80\n",
      "Learning rate:  0.0001\n",
      "138/138 [==============================] - 16s 117ms/step - loss: 0.6687 - acc: 0.7702 - val_loss: 0.8044 - val_acc: 0.7364\n",
      "Epoch 35/80\n",
      "Learning rate:  0.0001\n",
      "138/138 [==============================] - 16s 115ms/step - loss: 0.6412 - acc: 0.7738 - val_loss: 0.6993 - val_acc: 0.7491\n",
      "Epoch 36/80\n",
      "Learning rate:  0.0001\n",
      "138/138 [==============================] - 16s 115ms/step - loss: 0.6440 - acc: 0.7715 - val_loss: 0.7334 - val_acc: 0.7364\n",
      "Epoch 37/80\n",
      "Learning rate:  0.0001\n",
      "138/138 [==============================] - 16s 114ms/step - loss: 0.6124 - acc: 0.7844 - val_loss: 0.7068 - val_acc: 0.7691\n",
      "Epoch 38/80\n",
      "Learning rate:  0.0001\n",
      "138/138 [==============================] - 16s 116ms/step - loss: 0.6249 - acc: 0.7779 - val_loss: 0.8472 - val_acc: 0.7582\n",
      "Epoch 39/80\n",
      "Learning rate:  0.0001\n",
      "138/138 [==============================] - 16s 119ms/step - loss: 0.6054 - acc: 0.7894 - val_loss: 1.0907 - val_acc: 0.6927\n",
      "Epoch 40/80\n",
      "Learning rate:  0.0001\n",
      "138/138 [==============================] - 16s 117ms/step - loss: 0.5849 - acc: 0.7985 - val_loss: 0.6622 - val_acc: 0.7745\n",
      "Epoch 41/80\n",
      "Learning rate:  0.0001\n",
      "138/138 [==============================] - 16s 115ms/step - loss: 0.5813 - acc: 0.8028 - val_loss: 0.6810 - val_acc: 0.7655\n",
      "Epoch 42/80\n",
      "Learning rate:  1e-05\n",
      "138/138 [==============================] - 16s 114ms/step - loss: 0.4597 - acc: 0.8340 - val_loss: 0.5721 - val_acc: 0.8073\n",
      "Epoch 43/80\n",
      "Learning rate:  1e-05\n",
      "138/138 [==============================] - 16s 116ms/step - loss: 0.4218 - acc: 0.8438 - val_loss: 0.5678 - val_acc: 0.8127\n",
      "Epoch 44/80\n",
      "Learning rate:  1e-05\n",
      "138/138 [==============================] - 16s 118ms/step - loss: 0.4109 - acc: 0.8501 - val_loss: 0.5709 - val_acc: 0.8036\n",
      "Epoch 45/80\n",
      "Learning rate:  1e-05\n",
      "138/138 [==============================] - 16s 116ms/step - loss: 0.4221 - acc: 0.8422 - val_loss: 0.5660 - val_acc: 0.8091\n",
      "Epoch 46/80\n",
      "Learning rate:  1e-05\n",
      "138/138 [==============================] - 16s 115ms/step - loss: 0.4061 - acc: 0.8557 - val_loss: 0.5727 - val_acc: 0.8091\n",
      "Epoch 47/80\n",
      "Learning rate:  1e-05\n",
      "138/138 [==============================] - 16s 117ms/step - loss: 0.4002 - acc: 0.8553 - val_loss: 0.5740 - val_acc: 0.8036\n",
      "Epoch 48/80\n",
      "Learning rate:  1e-05\n",
      "138/138 [==============================] - 16s 117ms/step - loss: 0.4147 - acc: 0.8558 - val_loss: 0.5777 - val_acc: 0.8109\n",
      "Epoch 49/80\n",
      "Learning rate:  1e-05\n",
      "138/138 [==============================] - 16s 117ms/step - loss: 0.4016 - acc: 0.8524 - val_loss: 0.5741 - val_acc: 0.8073\n",
      "Epoch 50/80\n",
      "Learning rate:  1e-05\n",
      "138/138 [==============================] - 16s 115ms/step - loss: 0.3988 - acc: 0.8578 - val_loss: 0.5785 - val_acc: 0.8091\n",
      "Epoch 51/80\n",
      "Learning rate:  1e-05\n",
      "138/138 [==============================] - 16s 116ms/step - loss: 0.3740 - acc: 0.8623 - val_loss: 0.5834 - val_acc: 0.8109\n",
      "Epoch 52/80\n",
      "Learning rate:  1e-05\n",
      "138/138 [==============================] - 16s 118ms/step - loss: 0.3811 - acc: 0.8659 - val_loss: 0.5815 - val_acc: 0.8036\n",
      "Epoch 53/80\n",
      "Learning rate:  1e-05\n",
      "138/138 [==============================] - 16s 118ms/step - loss: 0.3884 - acc: 0.8585 - val_loss: 0.5535 - val_acc: 0.8145\n",
      "Epoch 54/80\n",
      "Learning rate:  1e-05\n",
      "138/138 [==============================] - 16s 114ms/step - loss: 0.3962 - acc: 0.8537 - val_loss: 0.5910 - val_acc: 0.8055\n",
      "Epoch 55/80\n",
      "Learning rate:  1e-05\n",
      "138/138 [==============================] - 16s 115ms/step - loss: 0.3614 - acc: 0.8619 - val_loss: 0.6034 - val_acc: 0.8055\n",
      "Epoch 56/80\n",
      "Learning rate:  1e-05\n",
      "138/138 [==============================] - 16s 117ms/step - loss: 0.3796 - acc: 0.8678 - val_loss: 0.6081 - val_acc: 0.8000\n",
      "Epoch 57/80\n",
      "Learning rate:  1e-05\n",
      "138/138 [==============================] - 16s 117ms/step - loss: 0.3668 - acc: 0.8675 - val_loss: 0.5747 - val_acc: 0.8164\n",
      "Epoch 58/80\n",
      "Learning rate:  1e-05\n",
      "138/138 [==============================] - 16s 115ms/step - loss: 0.3794 - acc: 0.8598 - val_loss: 0.5931 - val_acc: 0.8127\n",
      "Epoch 59/80\n",
      "Learning rate:  1e-05\n",
      "138/138 [==============================] - 16s 115ms/step - loss: 0.3473 - acc: 0.8734 - val_loss: 0.5850 - val_acc: 0.8091\n",
      "Epoch 60/80\n",
      "Learning rate:  1e-05\n",
      "138/138 [==============================] - 16s 117ms/step - loss: 0.3715 - acc: 0.8691 - val_loss: 0.5787 - val_acc: 0.8000\n",
      "Epoch 61/80\n",
      "Learning rate:  1e-05\n",
      "138/138 [==============================] - 16s 118ms/step - loss: 0.3420 - acc: 0.8736 - val_loss: 0.5823 - val_acc: 0.7964\n",
      "Epoch 62/80\n",
      "Learning rate:  1e-05\n",
      "138/138 [==============================] - 16s 115ms/step - loss: 0.3736 - acc: 0.8632 - val_loss: 0.5757 - val_acc: 0.8145\n",
      "Epoch 63/80\n",
      "Learning rate:  1e-05\n",
      "138/138 [==============================] - 16s 115ms/step - loss: 0.3605 - acc: 0.8637 - val_loss: 0.5693 - val_acc: 0.8055\n",
      "Epoch 64/80\n",
      "Learning rate:  1e-05\n",
      "138/138 [==============================] - 16s 117ms/step - loss: 0.3454 - acc: 0.8777 - val_loss: 0.5829 - val_acc: 0.8091\n",
      "Epoch 65/80\n",
      "Learning rate:  1e-05\n",
      "138/138 [==============================] - 16s 118ms/step - loss: 0.3675 - acc: 0.8659 - val_loss: 0.5681 - val_acc: 0.8182\n",
      "Epoch 66/80\n",
      "Learning rate:  1e-05\n",
      "138/138 [==============================] - 16s 116ms/step - loss: 0.3681 - acc: 0.8696 - val_loss: 0.6026 - val_acc: 0.7964\n",
      "Epoch 67/80\n",
      "Learning rate:  1e-05\n",
      "138/138 [==============================] - 16s 115ms/step - loss: 0.3623 - acc: 0.8659 - val_loss: 0.5660 - val_acc: 0.8127\n",
      "Epoch 68/80\n",
      "Learning rate:  1e-05\n",
      "138/138 [==============================] - 16s 118ms/step - loss: 0.3501 - acc: 0.8727 - val_loss: 0.5741 - val_acc: 0.8127\n",
      "Epoch 69/80\n",
      "Learning rate:  1e-05\n",
      "138/138 [==============================] - 16s 117ms/step - loss: 0.3457 - acc: 0.8761 - val_loss: 0.5761 - val_acc: 0.8182\n",
      "Epoch 70/80\n",
      "Learning rate:  1e-05\n",
      "138/138 [==============================] - 16s 114ms/step - loss: 0.3453 - acc: 0.8723 - val_loss: 0.5826 - val_acc: 0.8127\n",
      "Epoch 71/80\n",
      "Learning rate:  1e-05\n",
      "138/138 [==============================] - 16s 115ms/step - loss: 0.3382 - acc: 0.8798 - val_loss: 0.5641 - val_acc: 0.8018\n",
      "Epoch 72/80\n",
      "Learning rate:  1e-05\n",
      "138/138 [==============================] - 16s 117ms/step - loss: 0.3462 - acc: 0.8770 - val_loss: 0.5944 - val_acc: 0.7982\n",
      "Epoch 73/80\n",
      "Learning rate:  1e-05\n",
      "138/138 [==============================] - 16s 115ms/step - loss: 0.3225 - acc: 0.8782 - val_loss: 0.6015 - val_acc: 0.7982\n",
      "Epoch 74/80\n",
      "Learning rate:  1e-05\n",
      "138/138 [==============================] - 16s 114ms/step - loss: 0.3538 - acc: 0.8757 - val_loss: 0.5987 - val_acc: 0.8055\n",
      "Epoch 75/80\n",
      "Learning rate:  1e-05\n",
      "138/138 [==============================] - 16s 114ms/step - loss: 0.3267 - acc: 0.8859 - val_loss: 0.5975 - val_acc: 0.8036\n",
      "Epoch 76/80\n",
      "Learning rate:  1e-05\n",
      "138/138 [==============================] - 16s 114ms/step - loss: 0.3489 - acc: 0.8745 - val_loss: 0.5999 - val_acc: 0.8036\n",
      "Epoch 77/80\n",
      "Learning rate:  1e-05\n",
      "138/138 [==============================] - 16s 115ms/step - loss: 0.3269 - acc: 0.8798 - val_loss: 0.6054 - val_acc: 0.8055\n",
      "Epoch 78/80\n",
      "Learning rate:  1e-05\n",
      "138/138 [==============================] - 16s 114ms/step - loss: 0.3386 - acc: 0.8773 - val_loss: 0.5790 - val_acc: 0.8018\n",
      "Epoch 79/80\n",
      "Learning rate:  1e-05\n",
      "138/138 [==============================] - 16s 114ms/step - loss: 0.3028 - acc: 0.8895 - val_loss: 0.5978 - val_acc: 0.8145\n",
      "Epoch 80/80\n",
      "Learning rate:  1e-05\n",
      "138/138 [==============================] - 16s 115ms/step - loss: 0.3152 - acc: 0.8832 - val_loss: 0.6212 - val_acc: 0.8055\n"
     ]
    }
   ],
   "source": [
    "mlp_hist = model.fit_generator(datagen.flow(train_imgs, y_train, batch_size=32), validation_data=(test_imgs,y_test) ,steps_per_epoch= None, epochs=80, callbacks=callbacks) "
   ]
  },
  {
   "cell_type": "code",
   "execution_count": 12,
   "metadata": {
    "_uuid": "fce899af7951121558580c9f9b246cf283daa1ac"
   },
   "outputs": [],
   "source": [
    "# del model\n",
    "# gc.collect()"
   ]
  },
  {
   "cell_type": "code",
   "execution_count": 13,
   "metadata": {
    "_uuid": "328f6aba290b6dba713c8116fa60145093d1f352"
   },
   "outputs": [
    {
     "name": "stdout",
     "output_type": "stream",
     "text": [
      "550/550 [==============================] - 1s 2ms/step\n",
      "Test loss: 0.621182821338827\n",
      "Test accuracy: 0.8054545452378012\n"
     ]
    }
   ],
   "source": [
    "scores = model.evaluate(test_imgs,y_test, verbose=1)\n",
    "print('Test loss:', scores[0])\n",
    "print('Test accuracy:', scores[1])"
   ]
  },
  {
   "cell_type": "code",
   "execution_count": 14,
   "metadata": {
    "_uuid": "0a182870a196faeed9fb1515f59b94f20321c1a9"
   },
   "outputs": [],
   "source": [
    "# del train_imgs\n",
    "# del test_imgs\n",
    "# gc.collect()"
   ]
  },
  {
   "cell_type": "code",
   "execution_count": 15,
   "metadata": {
    "_uuid": "2c1b29e192f989885be01a07fa4daff434858949"
   },
   "outputs": [],
   "source": [
    "epochs = 80"
   ]
  },
  {
   "cell_type": "code",
   "execution_count": 16,
   "metadata": {
    "_uuid": "a91f664fe16f0aa4a9c55d79d7c01c3661531da2"
   },
   "outputs": [
    {
     "name": "stderr",
     "output_type": "stream",
     "text": [
      "No handles with labels found to put in legend.\n"
     ]
    },
    {
     "data": {
      "text/plain": [
       "Text(0,0.5,'Accuracy')"
      ]
     },
     "execution_count": 16,
     "metadata": {},
     "output_type": "execute_result"
    },
    {
     "data": {
      "image/png": "[encoded data removed]",
      "text/plain": [
       "<Figure size 1440x432 with 2 Axes>"
      ]
     },
     "metadata": {},
     "output_type": "display_data"
    }
   ],
   "source": [
    "plt.rcParams[\"figure.figsize\"] = (20,6)\n",
    "plt.subplot(1, 2, 1)\n",
    "plt.plot(range(1,epochs+1), mlp_hist.history['loss'], c='deepskyblue')\n",
    "plt.plot(range(1,epochs+1), mlp_hist.history['val_loss'], c='red')\n",
    "plt.legend(['Training set','Validation set'])\n",
    "plt.title('Cross-entropy loss on the training and validation sets')\n",
    "plt.xlabel('Epoch')\n",
    "plt.ylabel('Cross-entropy loss')\n",
    "plt.subplot(1, 2, 2)\n",
    "plt.plot(range(1,epochs+1), mlp_hist.history['acc'], c='deepskyblue')\n",
    "plt.plot(range(1,epochs+1), mlp_hist.history['val_acc'], c='red')\n",
    "plt.legend(loc='lower right')\n",
    "plt.legend(['Training set','Validation set'])\n",
    "plt.title('Accuracy on the training and validation sets')\n",
    "plt.xlabel('Epoch')\n",
    "plt.ylabel('Accuracy')"
   ]
  },
  {
   "cell_type": "code",
   "execution_count": 17,
   "metadata": {
    "_uuid": "2610c501314e8331f150cb01e44b0b53baee35bb"
   },
   "outputs": [],
   "source": [
    "model.save(\"SmallNetWeights.h5\")"
   ]
  },
  {
   "cell_type": "code",
   "execution_count": 18,
   "metadata": {
    "_uuid": "17b55c90a04fdb711a255a89726c149df04c758b"
   },
   "outputs": [],
   "source": [
    "# mlp.load_weights(\"../input/simple-neural-network/SmallNetWeights.h5\")"
   ]
  },
  {
   "cell_type": "code",
   "execution_count": 19,
   "metadata": {
    "_uuid": "3b510fbf3a38fc388decb1eed8b841c6a865670e"
   },
   "outputs": [],
   "source": []
  },
  {
   "cell_type": "code",
   "execution_count": 19,
   "metadata": {
    "_uuid": "67009753d5ec774db60d56633a7a507f79a6fd4f"
   },
   "outputs": [],
   "source": []
  },
  {
   "cell_type": "code",
   "execution_count": 19,
   "metadata": {
    "_uuid": "0b8428f5e4d4bbcfc3f2f8a4c3ed70f37dc42455"
   },
   "outputs": [],
   "source": []
  },
  {
   "cell_type": "code",
   "execution_count": 19,
   "metadata": {
    "_uuid": "4b371af1b1df316f9cb93e2691ff75e01a536e3e"
   },
   "outputs": [],
   "source": []
  }
 ],
 "metadata": {
  "kernelspec": {
   "display_name": "Python 3",
   "language": "python",
   "name": "python3"
  },
  "language_info": {
   "codemirror_mode": {
    "name": "ipython",
    "version": 3
   },
   "file_extension": ".py",
   "mimetype": "text/x-python",
   "name": "python",
   "nbconvert_exporter": "python",
   "pygments_lexer": "ipython3",
   "version": "3.6.6"
  }
 },
 "nbformat": 4,
 "nbformat_minor": 1
}
